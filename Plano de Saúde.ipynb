{
 "cells": [
  {
   "cell_type": "markdown",
   "id": "3196ffff-a1f8-44df-91fb-f207f7a8bbd8",
   "metadata": {},
   "source": [
    "# Previsão de Custo Anual – SaúdeViva  \n",
    "Este projeto apresenta um estudo baseado na empresa fictícia **SaúdeViva**, que oferece planos personalizados com previsões de custo calculadas via Machine Learning.  \n",
    "\n",
    "A análise considera fatores individuais como idade, altura, peso, tabagismo, número de filhos e região de residência para garantir maior transparência na precificação.  "
   ]
  },
  {
   "cell_type": "markdown",
   "id": "b1c7050b-e35b-4250-88e0-18130118d61c",
   "metadata": {},
   "source": [
    "# Coleta de dados"
   ]
  },
  {
   "cell_type": "code",
   "execution_count": 1,
   "id": "75bab711-a0b7-4a7f-be42-619338e866a8",
   "metadata": {},
   "outputs": [],
   "source": [
    "import pandas as pd\n",
    "import numpy as np\n",
    "import matplotlib.pyplot as plt\n",
    "import seaborn as sns"
   ]
  },
  {
   "cell_type": "code",
   "execution_count": 2,
   "id": "7e90c58a-2c8b-4fe7-87b3-2bdf3d68047e",
   "metadata": {
    "editable": true,
    "slideshow": {
     "slide_type": ""
    },
    "tags": []
   },
   "outputs": [],
   "source": [
    "from src.utils import carregar_dados\n",
    "raw = carregar_dados(caminho=\"dados/Train_Data.csv\")"
   ]
  },
  {
   "cell_type": "markdown",
   "id": "2ca46aad-d816-4bdc-916c-e1f01da3d46f",
   "metadata": {},
   "source": [
    "# Entendimento dos dados"
   ]
  },
  {
   "cell_type": "code",
   "execution_count": 3,
   "id": "10980dd6-fb53-484c-bdfa-1d49e26e1cee",
   "metadata": {},
   "outputs": [
    {
     "data": {
      "text/html": [
       "<div>\n",
       "<style scoped>\n",
       "    .dataframe tbody tr th:only-of-type {\n",
       "        vertical-align: middle;\n",
       "    }\n",
       "\n",
       "    .dataframe tbody tr th {\n",
       "        vertical-align: top;\n",
       "    }\n",
       "\n",
       "    .dataframe thead th {\n",
       "        text-align: right;\n",
       "    }\n",
       "</style>\n",
       "<table border=\"1\" class=\"dataframe\">\n",
       "  <thead>\n",
       "    <tr style=\"text-align: right;\">\n",
       "      <th></th>\n",
       "      <th>age</th>\n",
       "      <th>sex</th>\n",
       "      <th>bmi</th>\n",
       "      <th>smoker</th>\n",
       "      <th>region</th>\n",
       "      <th>children</th>\n",
       "      <th>charges</th>\n",
       "    </tr>\n",
       "  </thead>\n",
       "  <tbody>\n",
       "    <tr>\n",
       "      <th>0</th>\n",
       "      <td>21.000000</td>\n",
       "      <td>male</td>\n",
       "      <td>25.745000</td>\n",
       "      <td>no</td>\n",
       "      <td>northeast</td>\n",
       "      <td>2</td>\n",
       "      <td>3279.868550</td>\n",
       "    </tr>\n",
       "    <tr>\n",
       "      <th>1</th>\n",
       "      <td>36.976978</td>\n",
       "      <td>female</td>\n",
       "      <td>25.744165</td>\n",
       "      <td>yes</td>\n",
       "      <td>southeast</td>\n",
       "      <td>3</td>\n",
       "      <td>21454.494239</td>\n",
       "    </tr>\n",
       "    <tr>\n",
       "      <th>2</th>\n",
       "      <td>18.000000</td>\n",
       "      <td>male</td>\n",
       "      <td>30.030000</td>\n",
       "      <td>no</td>\n",
       "      <td>southeast</td>\n",
       "      <td>1</td>\n",
       "      <td>1720.353700</td>\n",
       "    </tr>\n",
       "    <tr>\n",
       "      <th>3</th>\n",
       "      <td>37.000000</td>\n",
       "      <td>male</td>\n",
       "      <td>30.676891</td>\n",
       "      <td>no</td>\n",
       "      <td>northeast</td>\n",
       "      <td>3</td>\n",
       "      <td>6801.437542</td>\n",
       "    </tr>\n",
       "    <tr>\n",
       "      <th>4</th>\n",
       "      <td>58.000000</td>\n",
       "      <td>male</td>\n",
       "      <td>32.010000</td>\n",
       "      <td>no</td>\n",
       "      <td>southeast</td>\n",
       "      <td>1</td>\n",
       "      <td>11946.625900</td>\n",
       "    </tr>\n",
       "    <tr>\n",
       "      <th>...</th>\n",
       "      <td>...</td>\n",
       "      <td>...</td>\n",
       "      <td>...</td>\n",
       "      <td>...</td>\n",
       "      <td>...</td>\n",
       "      <td>...</td>\n",
       "      <td>...</td>\n",
       "    </tr>\n",
       "    <tr>\n",
       "      <th>3625</th>\n",
       "      <td>48.820767</td>\n",
       "      <td>female</td>\n",
       "      <td>41.426984</td>\n",
       "      <td>no</td>\n",
       "      <td>northwest</td>\n",
       "      <td>4</td>\n",
       "      <td>10987.324964</td>\n",
       "    </tr>\n",
       "    <tr>\n",
       "      <th>3626</th>\n",
       "      <td>38.661977</td>\n",
       "      <td>female</td>\n",
       "      <td>26.202557</td>\n",
       "      <td>no</td>\n",
       "      <td>southeast</td>\n",
       "      <td>2</td>\n",
       "      <td>11735.844352</td>\n",
       "    </tr>\n",
       "    <tr>\n",
       "      <th>3627</th>\n",
       "      <td>56.000000</td>\n",
       "      <td>male</td>\n",
       "      <td>40.300000</td>\n",
       "      <td>no</td>\n",
       "      <td>southwest</td>\n",
       "      <td>0</td>\n",
       "      <td>10602.385000</td>\n",
       "    </tr>\n",
       "    <tr>\n",
       "      <th>3628</th>\n",
       "      <td>48.061207</td>\n",
       "      <td>female</td>\n",
       "      <td>34.930624</td>\n",
       "      <td>no</td>\n",
       "      <td>southeast</td>\n",
       "      <td>1</td>\n",
       "      <td>8976.140452</td>\n",
       "    </tr>\n",
       "    <tr>\n",
       "      <th>3629</th>\n",
       "      <td>37.598865</td>\n",
       "      <td>female</td>\n",
       "      <td>25.219233</td>\n",
       "      <td>no</td>\n",
       "      <td>northeast</td>\n",
       "      <td>3</td>\n",
       "      <td>7027.698968</td>\n",
       "    </tr>\n",
       "  </tbody>\n",
       "</table>\n",
       "<p>3630 rows × 7 columns</p>\n",
       "</div>"
      ],
      "text/plain": [
       "            age     sex        bmi smoker     region  children       charges\n",
       "0     21.000000    male  25.745000     no  northeast         2   3279.868550\n",
       "1     36.976978  female  25.744165    yes  southeast         3  21454.494239\n",
       "2     18.000000    male  30.030000     no  southeast         1   1720.353700\n",
       "3     37.000000    male  30.676891     no  northeast         3   6801.437542\n",
       "4     58.000000    male  32.010000     no  southeast         1  11946.625900\n",
       "...         ...     ...        ...    ...        ...       ...           ...\n",
       "3625  48.820767  female  41.426984     no  northwest         4  10987.324964\n",
       "3626  38.661977  female  26.202557     no  southeast         2  11735.844352\n",
       "3627  56.000000    male  40.300000     no  southwest         0  10602.385000\n",
       "3628  48.061207  female  34.930624     no  southeast         1   8976.140452\n",
       "3629  37.598865  female  25.219233     no  northeast         3   7027.698968\n",
       "\n",
       "[3630 rows x 7 columns]"
      ]
     },
     "metadata": {},
     "output_type": "display_data"
    }
   ],
   "source": [
    "# Visualização do dataframe\n",
    "display(raw)"
   ]
  },
  {
   "cell_type": "markdown",
   "id": "7790e390-36cf-4c4b-b8fb-f3ca2735cd65",
   "metadata": {},
   "source": [
    "# Análise Exploratória de Dados (EDA)"
   ]
  },
  {
   "cell_type": "code",
   "execution_count": 4,
   "id": "4edb55c2-64a8-4e41-83a4-b9eb7f08c195",
   "metadata": {},
   "outputs": [
    {
     "name": "stdout",
     "output_type": "stream",
     "text": [
      "<class 'pandas.core.frame.DataFrame'>\n",
      "RangeIndex: 3630 entries, 0 to 3629\n",
      "Data columns (total 7 columns):\n",
      " #   Column    Non-Null Count  Dtype  \n",
      "---  ------    --------------  -----  \n",
      " 0   age       3630 non-null   float64\n",
      " 1   sex       3630 non-null   object \n",
      " 2   bmi       3630 non-null   float64\n",
      " 3   smoker    3630 non-null   object \n",
      " 4   region    3630 non-null   object \n",
      " 5   children  3630 non-null   int64  \n",
      " 6   charges   3630 non-null   float64\n",
      "dtypes: float64(3), int64(1), object(3)\n",
      "memory usage: 198.6+ KB\n"
     ]
    }
   ],
   "source": [
    "# Quantidade de linhas\n",
    "# Quantidade de colunas\n",
    "# Nome de cada coluna\n",
    "# Quantos valores não-nulos existem em cada coluna\n",
    "# O tipo de dado em cada coluna\n",
    "# Uso de memória pelo DataFrame\n",
    "raw.info()"
   ]
  },
  {
   "cell_type": "code",
   "execution_count": 5,
   "id": "b2071aff-ea68-4bd5-897d-b0cf9222ce79",
   "metadata": {},
   "outputs": [
    {
     "data": {
      "text/plain": [
       "age         0\n",
       "sex         0\n",
       "bmi         0\n",
       "smoker      0\n",
       "region      0\n",
       "children    0\n",
       "charges     0\n",
       "dtype: int64"
      ]
     },
     "execution_count": 5,
     "metadata": {},
     "output_type": "execute_result"
    }
   ],
   "source": [
    "# Quantos valores nulos existem em cada coluna\n",
    "raw.isnull().sum()"
   ]
  },
  {
   "cell_type": "code",
   "execution_count": 6,
   "id": "adbdb0da-aa55-47a4-8e6b-588cb238d6ea",
   "metadata": {},
   "outputs": [
    {
     "name": "stdout",
     "output_type": "stream",
     "text": [
      "               age          bmi     children       charges\n",
      "count  3630.000000  3630.000000  3630.000000   3630.000000\n",
      "mean     38.887036    30.629652     2.503581  12784.808644\n",
      "std      12.151029     5.441307     1.712568  10746.166743\n",
      "min      18.000000    15.960000     0.000000   1121.873900\n",
      "25%      29.000000    26.694526     1.000000   5654.818262\n",
      "50%      39.170922    30.200000     3.000000   9443.807222\n",
      "75%      48.343281    34.100000     4.000000  14680.407505\n",
      "max      64.000000    53.130000     5.000000  63770.428010\n"
     ]
    }
   ],
   "source": [
    "# Estatística descritiva das colunas numéricas\n",
    "# count: quantidade de valores não nulos\n",
    "# mean: média\n",
    "# std: desvio padrão\n",
    "# min: 00% (valor mínimo)\n",
    "# Q1: 25%\n",
    "# Q2: 50% (mediana)\n",
    "# Q3: 75%\n",
    "# max: 100% (valor máximo)\n",
    "print(raw.describe(include=[np.number]))"
   ]
  },
  {
   "cell_type": "code",
   "execution_count": 7,
   "id": "a55db18f-3123-4eea-8dcb-54431d4e3faf",
   "metadata": {},
   "outputs": [
    {
     "name": "stdout",
     "output_type": "stream",
     "text": [
      "         sex smoker     region\n",
      "count   3630   3630       3630\n",
      "unique     2      2          4\n",
      "top     male     no  southeast\n",
      "freq    2029   3070       1021\n"
     ]
    }
   ],
   "source": [
    "# Estatística descritiva das colunas object\n",
    "# unique: quantidade de valores diferentes\n",
    "# top: qual é a moda da coluna\n",
    "# freq: quantas vezes cada moda se repete\n",
    "print(raw.describe(include=\"object\"))"
   ]
  },
  {
   "cell_type": "code",
   "execution_count": 8,
   "id": "c7b2dd57-d94f-46f1-869e-e723848e3b3d",
   "metadata": {},
   "outputs": [
    {
     "name": "stdout",
     "output_type": "stream",
     "text": [
      "    age   sex   bmi smoker     region  children   charges\n",
      "0  19.0  male  32.3     no  southeast       0.0  1137.011\n"
     ]
    }
   ],
   "source": [
    "# Moda de cada coluna\n",
    "print(raw.mode().iloc[[0]])"
   ]
  },
  {
   "cell_type": "code",
   "execution_count": 9,
   "id": "30e38289-d049-43f9-b1d1-e9769e698afa",
   "metadata": {},
   "outputs": [
    {
     "data": {
      "text/plain": [
       "age         1589\n",
       "sex            2\n",
       "bmi         2322\n",
       "smoker         2\n",
       "region         4\n",
       "children       6\n",
       "charges     2951\n",
       "dtype: int64"
      ]
     },
     "execution_count": 9,
     "metadata": {},
     "output_type": "execute_result"
    }
   ],
   "source": [
    "# Número de valores únicos em cada coluna\n",
    "raw.nunique()"
   ]
  },
  {
   "cell_type": "code",
   "execution_count": 10,
   "id": "ccf942ee-5333-478c-9a22-30e9bf3d5790",
   "metadata": {},
   "outputs": [
    {
     "name": "stdout",
     "output_type": "stream",
     "text": [
      "['male' 'female']\n",
      "['no' 'yes']\n",
      "['northeast' 'southeast' 'northwest' 'southwest']\n"
     ]
    }
   ],
   "source": [
    "# Visualização dos valores nas colunas categóricas\n",
    "# Usar em colunas com poucos valores únicos\n",
    "# Identifica se há valores redundantes\n",
    "# Identifica se há espaços em branco\n",
    "print(raw[\"sex\"].unique())\n",
    "print(raw[\"smoker\"].unique())\n",
    "print(raw[\"region\"].unique())"
   ]
  },
  {
   "cell_type": "code",
   "execution_count": 11,
   "id": "af24bd29-6bd9-47fa-9984-c35d8aecf3c1",
   "metadata": {},
   "outputs": [
    {
     "data": {
      "text/plain": [
       "np.int64(679)"
      ]
     },
     "execution_count": 11,
     "metadata": {},
     "output_type": "execute_result"
    }
   ],
   "source": [
    "# Quantidade de linhas duplicadas\n",
    "raw.duplicated().sum()"
   ]
  },
  {
   "cell_type": "code",
   "execution_count": 12,
   "id": "af6cba42-72e7-40c2-8190-db2a63a393b6",
   "metadata": {},
   "outputs": [
    {
     "name": "stdout",
     "output_type": "stream",
     "text": [
      "            age     sex        bmi smoker     region  children       charges\n",
      "2217  19.000000    male  30.590000     no  northwest         0   1639.563100\n",
      "2952  34.000000    male  25.270000     no  northwest         1   4894.753300\n",
      "2953  33.000000  female  28.270000     no  southeast         1   4779.602300\n",
      "2954  33.398132    male  29.352224     no  southwest         4   6216.387358\n",
      "2955  39.000000    male  27.539985     no  southeast         5   8844.634442\n",
      "...         ...     ...        ...    ...        ...       ...           ...\n",
      "3625  48.820767  female  41.426984     no  northwest         4  10987.324964\n",
      "3626  38.661977  female  26.202557     no  southeast         2  11735.844352\n",
      "3627  56.000000    male  40.300000     no  southwest         0  10602.385000\n",
      "3628  48.061207  female  34.930624     no  southeast         1   8976.140452\n",
      "3629  37.598865  female  25.219233     no  northeast         3   7027.698968\n",
      "\n",
      "[679 rows x 7 columns]\n"
     ]
    }
   ],
   "source": [
    "# Visualização de linhas duplicadas\n",
    "# Só devem ser removidas se tiverem ID\n",
    "print(raw[raw.duplicated()])"
   ]
  },
  {
   "cell_type": "markdown",
   "id": "0bff4c0c-ddec-449a-a46f-bf109a224516",
   "metadata": {},
   "source": [
    "### Distribuição assimétrica das colunas numéricas"
   ]
  },
  {
   "cell_type": "code",
   "execution_count": 13,
   "id": "faec48b4-27f2-46a1-8813-6a4cbfc970cf",
   "metadata": {},
   "outputs": [
    {
     "data": {
      "text/plain": [
       "age         0.049292\n",
       "bmi         0.353485\n",
       "children   -0.009063\n",
       "charges     1.774523\n",
       "dtype: float64"
      ]
     },
     "execution_count": 13,
     "metadata": {},
     "output_type": "execute_result"
    }
   ],
   "source": [
    "# Distribuição assimétrica das colunas numéricas\n",
    "# Skewness (assimetria) é a distribuição dos dados em relação a média\n",
    "# Assimetria positiva: Maior distribuição em valores baixos\n",
    "# Assimetria negativa: Mais distribuição em valores altos\n",
    "raw.skew(numeric_only=True)"
   ]
  },
  {
   "cell_type": "markdown",
   "id": "ceca592a-2ffb-4768-95a7-de94abd4d6c2",
   "metadata": {},
   "source": [
    "### Histograma"
   ]
  },
  {
   "cell_type": "code",
   "execution_count": 14,
   "id": "29fb8dc5-6fbe-47d3-b501-70541ff6f74f",
   "metadata": {},
   "outputs": [
    {
     "data": {
      "image/png": "[encoded data removed]",
      "text/plain": [
       "<Figure size 1200x800 with 4 Axes>"
      ]
     },
     "metadata": {},
     "output_type": "display_data"
    }
   ],
   "source": [
    "# Gráficos de barras com kde para todas ascolunas numéricas\n",
    "fig, axes = plt.subplots(2, 2, figsize=(12, 8))  # 2 linhas, 2 colunas\n",
    "sns.histplot(data=raw, x=\"age\", kde=True, ax=axes[0, 0]) # linha 0, coluna 0\n",
    "sns.histplot(data=raw, x=\"bmi\", kde=True, ax=axes[0, 1]) # linha 0, coluna 1\n",
    "sns.histplot(data=raw, x=\"children\", kde=True, ax=axes[1, 0]) # linha 1, coluna 0\n",
    "sns.histplot(data=raw, x=\"charges\", kde=True, ax=axes[1, 1]) # linha 1, coluna 1\n",
    "plt.tight_layout() # Espaçamento automático\n",
    "plt.show() # Renderizar plotagem"
   ]
  },
  {
   "cell_type": "markdown",
   "id": "ff52feab-24fb-477d-a14b-aaf657ef2408",
   "metadata": {},
   "source": [
    "### Boxplot"
   ]
  },
  {
   "cell_type": "code",
   "execution_count": 15,
   "id": "1c76a2fd-8a01-4e3f-8409-926a30a30083",
   "metadata": {
    "scrolled": true
   },
   "outputs": [
    {
     "data": {
      "image/png": "[encoded data removed]",
      "text/plain": [
       "<Figure size 1200x300 with 1 Axes>"
      ]
     },
     "metadata": {},
     "output_type": "display_data"
    }
   ],
   "source": [
    "# Define tamanho da figura (horizontal, vertical)\n",
    "plt.figure(figsize=(12, 3))\n",
    "# Cria um boxplot horizontal para a coluna 'charges'\n",
    "# x: Gráfico será horizontal\n",
    "# y: Gráfico será vertical\n",
    "sns.boxplot(x=raw[\"charges\"])\n",
    "# Adiciona uma grade de fundo para facilitar a leitura dos valores\n",
    "plt.grid(True)\n",
    "# Exibe o gráfico na tela\n",
    "plt.show()"
   ]
  },
  {
   "cell_type": "markdown",
   "id": "bf4b9eef-eb68-478e-a763-0745ae2cd9f6",
   "metadata": {},
   "source": [
    "# Pré-processamento de dados"
   ]
  },
  {
   "cell_type": "markdown",
   "id": "e66cd3a6-7f60-442f-9d2e-3f1bb19b6a9c",
   "metadata": {},
   "source": [
    "### Dados brutos"
   ]
  },
  {
   "cell_type": "code",
   "execution_count": 16,
   "id": "7c82767f-5f8f-4774-a406-f5267ae5f631",
   "metadata": {},
   "outputs": [
    {
     "data": {
      "text/html": [
       "<div>\n",
       "<style scoped>\n",
       "    .dataframe tbody tr th:only-of-type {\n",
       "        vertical-align: middle;\n",
       "    }\n",
       "\n",
       "    .dataframe tbody tr th {\n",
       "        vertical-align: top;\n",
       "    }\n",
       "\n",
       "    .dataframe thead th {\n",
       "        text-align: right;\n",
       "    }\n",
       "</style>\n",
       "<table border=\"1\" class=\"dataframe\">\n",
       "  <thead>\n",
       "    <tr style=\"text-align: right;\">\n",
       "      <th></th>\n",
       "      <th>age</th>\n",
       "      <th>sex</th>\n",
       "      <th>bmi</th>\n",
       "      <th>smoker</th>\n",
       "      <th>region</th>\n",
       "      <th>children</th>\n",
       "      <th>charges</th>\n",
       "    </tr>\n",
       "  </thead>\n",
       "  <tbody>\n",
       "    <tr>\n",
       "      <th>0</th>\n",
       "      <td>21.000000</td>\n",
       "      <td>male</td>\n",
       "      <td>25.745000</td>\n",
       "      <td>no</td>\n",
       "      <td>northeast</td>\n",
       "      <td>2</td>\n",
       "      <td>3279.868550</td>\n",
       "    </tr>\n",
       "    <tr>\n",
       "      <th>1</th>\n",
       "      <td>36.976978</td>\n",
       "      <td>female</td>\n",
       "      <td>25.744165</td>\n",
       "      <td>yes</td>\n",
       "      <td>southeast</td>\n",
       "      <td>3</td>\n",
       "      <td>21454.494239</td>\n",
       "    </tr>\n",
       "    <tr>\n",
       "      <th>2</th>\n",
       "      <td>18.000000</td>\n",
       "      <td>male</td>\n",
       "      <td>30.030000</td>\n",
       "      <td>no</td>\n",
       "      <td>southeast</td>\n",
       "      <td>1</td>\n",
       "      <td>1720.353700</td>\n",
       "    </tr>\n",
       "    <tr>\n",
       "      <th>3</th>\n",
       "      <td>37.000000</td>\n",
       "      <td>male</td>\n",
       "      <td>30.676891</td>\n",
       "      <td>no</td>\n",
       "      <td>northeast</td>\n",
       "      <td>3</td>\n",
       "      <td>6801.437542</td>\n",
       "    </tr>\n",
       "    <tr>\n",
       "      <th>4</th>\n",
       "      <td>58.000000</td>\n",
       "      <td>male</td>\n",
       "      <td>32.010000</td>\n",
       "      <td>no</td>\n",
       "      <td>southeast</td>\n",
       "      <td>1</td>\n",
       "      <td>11946.625900</td>\n",
       "    </tr>\n",
       "    <tr>\n",
       "      <th>...</th>\n",
       "      <td>...</td>\n",
       "      <td>...</td>\n",
       "      <td>...</td>\n",
       "      <td>...</td>\n",
       "      <td>...</td>\n",
       "      <td>...</td>\n",
       "      <td>...</td>\n",
       "    </tr>\n",
       "    <tr>\n",
       "      <th>3625</th>\n",
       "      <td>48.820767</td>\n",
       "      <td>female</td>\n",
       "      <td>41.426984</td>\n",
       "      <td>no</td>\n",
       "      <td>northwest</td>\n",
       "      <td>4</td>\n",
       "      <td>10987.324964</td>\n",
       "    </tr>\n",
       "    <tr>\n",
       "      <th>3626</th>\n",
       "      <td>38.661977</td>\n",
       "      <td>female</td>\n",
       "      <td>26.202557</td>\n",
       "      <td>no</td>\n",
       "      <td>southeast</td>\n",
       "      <td>2</td>\n",
       "      <td>11735.844352</td>\n",
       "    </tr>\n",
       "    <tr>\n",
       "      <th>3627</th>\n",
       "      <td>56.000000</td>\n",
       "      <td>male</td>\n",
       "      <td>40.300000</td>\n",
       "      <td>no</td>\n",
       "      <td>southwest</td>\n",
       "      <td>0</td>\n",
       "      <td>10602.385000</td>\n",
       "    </tr>\n",
       "    <tr>\n",
       "      <th>3628</th>\n",
       "      <td>48.061207</td>\n",
       "      <td>female</td>\n",
       "      <td>34.930624</td>\n",
       "      <td>no</td>\n",
       "      <td>southeast</td>\n",
       "      <td>1</td>\n",
       "      <td>8976.140452</td>\n",
       "    </tr>\n",
       "    <tr>\n",
       "      <th>3629</th>\n",
       "      <td>37.598865</td>\n",
       "      <td>female</td>\n",
       "      <td>25.219233</td>\n",
       "      <td>no</td>\n",
       "      <td>northeast</td>\n",
       "      <td>3</td>\n",
       "      <td>7027.698968</td>\n",
       "    </tr>\n",
       "  </tbody>\n",
       "</table>\n",
       "<p>3630 rows × 7 columns</p>\n",
       "</div>"
      ],
      "text/plain": [
       "            age     sex        bmi smoker     region  children       charges\n",
       "0     21.000000    male  25.745000     no  northeast         2   3279.868550\n",
       "1     36.976978  female  25.744165    yes  southeast         3  21454.494239\n",
       "2     18.000000    male  30.030000     no  southeast         1   1720.353700\n",
       "3     37.000000    male  30.676891     no  northeast         3   6801.437542\n",
       "4     58.000000    male  32.010000     no  southeast         1  11946.625900\n",
       "...         ...     ...        ...    ...        ...       ...           ...\n",
       "3625  48.820767  female  41.426984     no  northwest         4  10987.324964\n",
       "3626  38.661977  female  26.202557     no  southeast         2  11735.844352\n",
       "3627  56.000000    male  40.300000     no  southwest         0  10602.385000\n",
       "3628  48.061207  female  34.930624     no  southeast         1   8976.140452\n",
       "3629  37.598865  female  25.219233     no  northeast         3   7027.698968\n",
       "\n",
       "[3630 rows x 7 columns]"
      ]
     },
     "metadata": {},
     "output_type": "display_data"
    }
   ],
   "source": [
    "# Visualização dos dados brutos\n",
    "display(raw)"
   ]
  },
  {
   "cell_type": "code",
   "execution_count": 17,
   "id": "dbf69742-e53e-4b8c-a641-3df062c59b5e",
   "metadata": {},
   "outputs": [],
   "source": [
    "# Passando dados brutos para o dataframe que será pré-processado\n",
    "df = raw\n",
    "# Convertendo object para category\n",
    "df[[\"sex\",\"smoker\",\"region\"]] = raw[[\"sex\",\"smoker\",\"region\",]].astype(\"category\")\n",
    "# Limitando casas decimais\n",
    "df[\"age\"] = raw[\"age\"].astype(\"int64\")\n",
    "df[\"bmi\"] = raw[\"bmi\"].round(2)\n",
    "df[\"charges\"] = raw[\"charges\"].round(2)\n",
    "# One-Hot Encoding nas variáveis categórias para otimizar a performance nos modelos\n",
    "df = pd.get_dummies(df, drop_first=True)"
   ]
  },
  {
   "cell_type": "markdown",
   "id": "a3840ec2-5e78-469d-9fcd-8a424d2e9af8",
   "metadata": {},
   "source": [
    "### Classificando BMI"
   ]
  },
  {
   "cell_type": "code",
   "execution_count": 18,
   "id": "7fa811a8-4eda-4145-8c42-4e235e311286",
   "metadata": {},
   "outputs": [],
   "source": [
    "def categorize_bmi(bmi):\n",
    "    if bmi < 18.5:\n",
    "        return \"baixo\"\n",
    "    elif 18.5 <= bmi < 25:\n",
    "        return \"normal\"\n",
    "    elif 25 <= bmi < 30:\n",
    "        return \"sobrepeso\"\n",
    "    else:\n",
    "        return \"obesidade\"\n",
    "\n",
    "df[\"bmi_category\"] = raw[\"bmi\"].apply(categorize_bmi).astype(\"category\")\n"
   ]
  },
  {
   "cell_type": "markdown",
   "id": "3bcbea08-9da0-488c-b981-8240c448dfde",
   "metadata": {},
   "source": [
    "### Dados pré-processados"
   ]
  },
  {
   "cell_type": "code",
   "execution_count": 19,
   "id": "da991388-8371-478a-8593-5e6372bf3a71",
   "metadata": {},
   "outputs": [
    {
     "data": {
      "text/html": [
       "<div>\n",
       "<style scoped>\n",
       "    .dataframe tbody tr th:only-of-type {\n",
       "        vertical-align: middle;\n",
       "    }\n",
       "\n",
       "    .dataframe tbody tr th {\n",
       "        vertical-align: top;\n",
       "    }\n",
       "\n",
       "    .dataframe thead th {\n",
       "        text-align: right;\n",
       "    }\n",
       "</style>\n",
       "<table border=\"1\" class=\"dataframe\">\n",
       "  <thead>\n",
       "    <tr style=\"text-align: right;\">\n",
       "      <th></th>\n",
       "      <th>age</th>\n",
       "      <th>bmi</th>\n",
       "      <th>children</th>\n",
       "      <th>charges</th>\n",
       "      <th>sex_male</th>\n",
       "      <th>smoker_yes</th>\n",
       "      <th>region_northwest</th>\n",
       "      <th>region_southeast</th>\n",
       "      <th>region_southwest</th>\n",
       "      <th>bmi_category</th>\n",
       "    </tr>\n",
       "  </thead>\n",
       "  <tbody>\n",
       "    <tr>\n",
       "      <th>0</th>\n",
       "      <td>21</td>\n",
       "      <td>25.74</td>\n",
       "      <td>2</td>\n",
       "      <td>3279.87</td>\n",
       "      <td>True</td>\n",
       "      <td>False</td>\n",
       "      <td>False</td>\n",
       "      <td>False</td>\n",
       "      <td>False</td>\n",
       "      <td>sobrepeso</td>\n",
       "    </tr>\n",
       "    <tr>\n",
       "      <th>1</th>\n",
       "      <td>36</td>\n",
       "      <td>25.74</td>\n",
       "      <td>3</td>\n",
       "      <td>21454.49</td>\n",
       "      <td>False</td>\n",
       "      <td>True</td>\n",
       "      <td>False</td>\n",
       "      <td>True</td>\n",
       "      <td>False</td>\n",
       "      <td>sobrepeso</td>\n",
       "    </tr>\n",
       "    <tr>\n",
       "      <th>2</th>\n",
       "      <td>18</td>\n",
       "      <td>30.03</td>\n",
       "      <td>1</td>\n",
       "      <td>1720.35</td>\n",
       "      <td>True</td>\n",
       "      <td>False</td>\n",
       "      <td>False</td>\n",
       "      <td>True</td>\n",
       "      <td>False</td>\n",
       "      <td>obesidade</td>\n",
       "    </tr>\n",
       "    <tr>\n",
       "      <th>3</th>\n",
       "      <td>37</td>\n",
       "      <td>30.68</td>\n",
       "      <td>3</td>\n",
       "      <td>6801.44</td>\n",
       "      <td>True</td>\n",
       "      <td>False</td>\n",
       "      <td>False</td>\n",
       "      <td>False</td>\n",
       "      <td>False</td>\n",
       "      <td>obesidade</td>\n",
       "    </tr>\n",
       "    <tr>\n",
       "      <th>4</th>\n",
       "      <td>58</td>\n",
       "      <td>32.01</td>\n",
       "      <td>1</td>\n",
       "      <td>11946.63</td>\n",
       "      <td>True</td>\n",
       "      <td>False</td>\n",
       "      <td>False</td>\n",
       "      <td>True</td>\n",
       "      <td>False</td>\n",
       "      <td>obesidade</td>\n",
       "    </tr>\n",
       "    <tr>\n",
       "      <th>...</th>\n",
       "      <td>...</td>\n",
       "      <td>...</td>\n",
       "      <td>...</td>\n",
       "      <td>...</td>\n",
       "      <td>...</td>\n",
       "      <td>...</td>\n",
       "      <td>...</td>\n",
       "      <td>...</td>\n",
       "      <td>...</td>\n",
       "      <td>...</td>\n",
       "    </tr>\n",
       "    <tr>\n",
       "      <th>3625</th>\n",
       "      <td>48</td>\n",
       "      <td>41.43</td>\n",
       "      <td>4</td>\n",
       "      <td>10987.32</td>\n",
       "      <td>False</td>\n",
       "      <td>False</td>\n",
       "      <td>True</td>\n",
       "      <td>False</td>\n",
       "      <td>False</td>\n",
       "      <td>obesidade</td>\n",
       "    </tr>\n",
       "    <tr>\n",
       "      <th>3626</th>\n",
       "      <td>38</td>\n",
       "      <td>26.20</td>\n",
       "      <td>2</td>\n",
       "      <td>11735.84</td>\n",
       "      <td>False</td>\n",
       "      <td>False</td>\n",
       "      <td>False</td>\n",
       "      <td>True</td>\n",
       "      <td>False</td>\n",
       "      <td>sobrepeso</td>\n",
       "    </tr>\n",
       "    <tr>\n",
       "      <th>3627</th>\n",
       "      <td>56</td>\n",
       "      <td>40.30</td>\n",
       "      <td>0</td>\n",
       "      <td>10602.38</td>\n",
       "      <td>True</td>\n",
       "      <td>False</td>\n",
       "      <td>False</td>\n",
       "      <td>False</td>\n",
       "      <td>True</td>\n",
       "      <td>obesidade</td>\n",
       "    </tr>\n",
       "    <tr>\n",
       "      <th>3628</th>\n",
       "      <td>48</td>\n",
       "      <td>34.93</td>\n",
       "      <td>1</td>\n",
       "      <td>8976.14</td>\n",
       "      <td>False</td>\n",
       "      <td>False</td>\n",
       "      <td>False</td>\n",
       "      <td>True</td>\n",
       "      <td>False</td>\n",
       "      <td>obesidade</td>\n",
       "    </tr>\n",
       "    <tr>\n",
       "      <th>3629</th>\n",
       "      <td>37</td>\n",
       "      <td>25.22</td>\n",
       "      <td>3</td>\n",
       "      <td>7027.70</td>\n",
       "      <td>False</td>\n",
       "      <td>False</td>\n",
       "      <td>False</td>\n",
       "      <td>False</td>\n",
       "      <td>False</td>\n",
       "      <td>sobrepeso</td>\n",
       "    </tr>\n",
       "  </tbody>\n",
       "</table>\n",
       "<p>3630 rows × 10 columns</p>\n",
       "</div>"
      ],
      "text/plain": [
       "      age    bmi  children   charges  sex_male  smoker_yes  region_northwest  \\\n",
       "0      21  25.74         2   3279.87      True       False             False   \n",
       "1      36  25.74         3  21454.49     False        True             False   \n",
       "2      18  30.03         1   1720.35      True       False             False   \n",
       "3      37  30.68         3   6801.44      True       False             False   \n",
       "4      58  32.01         1  11946.63      True       False             False   \n",
       "...   ...    ...       ...       ...       ...         ...               ...   \n",
       "3625   48  41.43         4  10987.32     False       False              True   \n",
       "3626   38  26.20         2  11735.84     False       False             False   \n",
       "3627   56  40.30         0  10602.38      True       False             False   \n",
       "3628   48  34.93         1   8976.14     False       False             False   \n",
       "3629   37  25.22         3   7027.70     False       False             False   \n",
       "\n",
       "      region_southeast  region_southwest bmi_category  \n",
       "0                False             False    sobrepeso  \n",
       "1                 True             False    sobrepeso  \n",
       "2                 True             False    obesidade  \n",
       "3                False             False    obesidade  \n",
       "4                 True             False    obesidade  \n",
       "...                ...               ...          ...  \n",
       "3625             False             False    obesidade  \n",
       "3626              True             False    sobrepeso  \n",
       "3627             False              True    obesidade  \n",
       "3628              True             False    obesidade  \n",
       "3629             False             False    sobrepeso  \n",
       "\n",
       "[3630 rows x 10 columns]"
      ]
     },
     "metadata": {},
     "output_type": "display_data"
    }
   ],
   "source": [
    "# Visualização dos dados pré-processados\n",
    "display(df.select_dtypes(include=[\"number\", \"bool\", \"category\"]))"
   ]
  },
  {
   "cell_type": "markdown",
   "id": "097e9797-52f0-4742-92a4-28018c27d944",
   "metadata": {},
   "source": [
    "# Baseline"
   ]
  },
  {
   "cell_type": "code",
   "execution_count": 20,
   "id": "85ea71ed-2dbf-4736-ada5-a69e62e0229c",
   "metadata": {},
   "outputs": [],
   "source": [
    "# Separando colunas que serão usadas para treinar o modelo\n",
    "df = df[[\"age\",\"sex_male\",\"smoker_yes\", \"region_northwest\", \"region_southeast\",\"region_southwest\"]]\n",
    "x = df.iloc[:,:-1]  # todas as linhas, todas as colunas menos a última (variáveis independentes que serão usadas para ensinar o modelo)\n",
    "y = df.iloc[:,-1]   # todas as linhas, somente a última coluna (variável dependente, que o modelo vai aprender a prever)"
   ]
  },
  {
   "cell_type": "code",
   "execution_count": 21,
   "id": "bd8adad2-c340-48d6-9ebf-dde48cbe7e45",
   "metadata": {},
   "outputs": [
    {
     "name": "stdout",
     "output_type": "stream",
     "text": [
      "MAE (Erro Absoluto Médio): 0.359  -> média dos erros absolutos entre previsto e real (quanto menor, melhor)\n",
      "MSE (Erro Quadrático Médio): 0.179  -> média dos erros ao quadrado, penaliza erros grandes (quanto menor, melhor)\n",
      "RMSE (Raiz do Erro Quadrático Médio): 0.423  -> erro médio na unidade original da variável alvo (quanto menor, melhor)\n",
      "R² (Coeficiente de Determinação): 0.000  -> mede o quanto o modelo explica a variabilidade dos dados (quanto mais próximo de 1, melhor)\n"
     ]
    }
   ],
   "source": [
    "from sklearn.metrics import mean_absolute_error, mean_squared_error, r2_score\n",
    "\n",
    "# Predição baseline: o modelo sempre prevê a média dos valores de y\n",
    "y_pred = [y.mean()] * len(y)\n",
    "\n",
    "# Avaliando a baseline com explicações no print\n",
    "print(f\"MAE (Erro Absoluto Médio): {mean_absolute_error(y, y_pred):.3f}  -> média dos erros absolutos entre previsto e real (quanto menor, melhor)\")\n",
    "print(f\"MSE (Erro Quadrático Médio): {mean_squared_error(y, y_pred):.3f}  -> média dos erros ao quadrado, penaliza erros grandes (quanto menor, melhor)\")\n",
    "print(f\"RMSE (Raiz do Erro Quadrático Médio): {np.sqrt(mean_squared_error(y, y_pred)):.3f}  -> erro médio na unidade original da variável alvo (quanto menor, melhor)\")\n",
    "print(f\"R² (Coeficiente de Determinação): {r2_score(y, y_pred):.3f}  -> mede o quanto o modelo explica a variabilidade dos dados (quanto mais próximo de 1, melhor)\")\n"
   ]
  },
  {
   "cell_type": "markdown",
   "id": "9e45d5fd-654b-46ee-87a6-9bc297bc5ca3",
   "metadata": {},
   "source": [
    "# Divisão treino e teste dos dados"
   ]
  },
  {
   "cell_type": "code",
   "execution_count": 22,
   "id": "d64bef9f-aa83-49b1-9854-965913773074",
   "metadata": {},
   "outputs": [],
   "source": [
    "from sklearn.model_selection import train_test_split\n",
    "\n",
    "# Divide os dados em conjuntos de treino e teste\n",
    "# x e y são separados em x_train (entradas para treino), x_test (entradas para teste),\n",
    "# y_train (rótulos para treino) e y_test (rótulos para teste)\n",
    "# test_size=0.2 significa que 20% dos dados serão usados para teste, e 80% para treino\n",
    "# random_state=0 faz a divisão dos dados ser sempre a mesma, permitindo reprodutibilidade\n",
    "# reprodutibilidade significa que quem rodar o código de novo, terá o mesmo resultado\n",
    "\n",
    "x_train, x_test, y_train, y_test = train_test_split(x, y, test_size=0.2, random_state=0)"
   ]
  },
  {
   "cell_type": "markdown",
   "id": "88255a9a-4c5a-4f83-96f2-fe9b94bbf8db",
   "metadata": {},
   "source": [
    "# Testando modelos"
   ]
  },
  {
   "cell_type": "markdown",
   "id": "3ba9fe88-672d-4ac3-b721-7d5f2d497c27",
   "metadata": {},
   "source": [
    "### Regressão Linear"
   ]
  },
  {
   "cell_type": "code",
   "execution_count": 23,
   "id": "71cb5cdd-b46a-4050-972a-ec0135f07449",
   "metadata": {},
   "outputs": [
    {
     "name": "stdout",
     "output_type": "stream",
     "text": [
      "MAE: 0.247\n",
      "MSE: 0.116\n",
      "RMSE: 0.341\n",
      "R² : 0.329\n"
     ]
    }
   ],
   "source": [
    "# Regressão Linear\n",
    "from sklearn.linear_model import LinearRegression\n",
    "lr_reg = LinearRegression()\n",
    "lr_reg = lr_reg.fit(x_train, y_train)\n",
    "\n",
    "# Predição\n",
    "y_pred = lr_reg.predict(x_test)\n",
    "\n",
    "# Scores\n",
    "print(f\"MAE: {mean_absolute_error(y_test, y_pred):.3f}\")\n",
    "print(f\"MSE: {mean_squared_error(y_test, y_pred):.3f}\")\n",
    "print(f\"RMSE: {np.sqrt(mean_squared_error(y_test, y_pred)):.3f}\")\n",
    "print(f\"R² : {r2_score(y_test, y_pred):.3f}\")"
   ]
  },
  {
   "cell_type": "markdown",
   "id": "722ae117-f1fd-49d1-8b03-b802f0911227",
   "metadata": {},
   "source": [
    "### Regressão Ridge"
   ]
  },
  {
   "cell_type": "code",
   "execution_count": 24,
   "id": "b13d9953-6251-4e1a-9448-b57b8075af3e",
   "metadata": {},
   "outputs": [
    {
     "name": "stdout",
     "output_type": "stream",
     "text": [
      "MAE: 0.247\n",
      "MSE: 0.116\n",
      "RMSE: 0.341\n",
      "R² : 0.329\n"
     ]
    }
   ],
   "source": [
    "# Regressão Ridge\n",
    "from sklearn.linear_model import Ridge\n",
    "ridge_reg = Ridge()\n",
    "ridge_reg = ridge_reg.fit(x_train, y_train)\n",
    "\n",
    "# Predição\n",
    "y_pred = ridge_reg.predict(x_test)\n",
    "\n",
    "# Scores\n",
    "print(f\"MAE: {mean_absolute_error(y_test, y_pred):.3f}\")\n",
    "print(f\"MSE: {mean_squared_error(y_test, y_pred):.3f}\")\n",
    "print(f\"RMSE: {np.sqrt(mean_squared_error(y_test, y_pred)):.3f}\")\n",
    "print(f\"R² : {r2_score(y_test, y_pred):.3f}\")\n"
   ]
  },
  {
   "cell_type": "markdown",
   "id": "cfb24a0f-bcc1-4613-b815-1ba85de73f6d",
   "metadata": {},
   "source": [
    "### Regressão Lasso"
   ]
  },
  {
   "cell_type": "code",
   "execution_count": 25,
   "id": "607a1c3c-fae4-4518-840f-e4a4ac614a73",
   "metadata": {},
   "outputs": [
    {
     "name": "stdout",
     "output_type": "stream",
     "text": [
      "MAE: 0.354\n",
      "MSE: 0.174\n",
      "RMSE: 0.417\n",
      "R² : -0.001\n"
     ]
    }
   ],
   "source": [
    "# Regressão Lasso\n",
    "from sklearn.linear_model import Lasso\n",
    "lasso_reg = Lasso()\n",
    "lasso_reg = lasso_reg.fit(x_train, y_train)\n",
    "\n",
    "# Predição\n",
    "y_pred = lasso_reg.predict(x_test)\n",
    "\n",
    "# Scores\n",
    "print(f\"MAE: {mean_absolute_error(y_test, y_pred):.3f}\")\n",
    "print(f\"MSE: {mean_squared_error(y_test, y_pred):.3f}\")\n",
    "print(f\"RMSE: {np.sqrt(mean_squared_error(y_test, y_pred)):.3f}\")\n",
    "print(f\"R² : {r2_score(y_test, y_pred):.3f}\")\n"
   ]
  },
  {
   "cell_type": "markdown",
   "id": "f480c018-a64c-4dc5-bfc2-27876a6c5d0d",
   "metadata": {},
   "source": [
    "### XGBoost Regressor"
   ]
  },
  {
   "cell_type": "code",
   "execution_count": 26,
   "id": "72bae32d-8377-4ae0-83a6-a174d65388ec",
   "metadata": {},
   "outputs": [
    {
     "name": "stdout",
     "output_type": "stream",
     "text": [
      "MAE: 0.220\n",
      "MSE: 0.125\n",
      "RMSE: 0.353\n",
      "R² : 0.281\n"
     ]
    }
   ],
   "source": [
    "# XGBoost Regressor\n",
    "from xgboost import XGBRegressor\n",
    "xgb_reg = XGBRegressor()\n",
    "xgb_reg = xgb_reg.fit(x_train, y_train)\n",
    "\n",
    "# Predição\n",
    "y_pred = xgb_reg.predict(x_test)\n",
    "\n",
    "# Scores\n",
    "print(f\"MAE: {mean_absolute_error(y_test, y_pred):.3f}\")\n",
    "print(f\"MSE: {mean_squared_error(y_test, y_pred):.3f}\")\n",
    "print(f\"RMSE: {np.sqrt(mean_squared_error(y_test, y_pred)):.3f}\")\n",
    "print(f\"R² : {r2_score(y_test, y_pred):.3f}\")\n"
   ]
  },
  {
   "cell_type": "markdown",
   "id": "420c05d6-bc16-4e20-b69f-c7d0e0d8e247",
   "metadata": {},
   "source": [
    "### LightGBM Regressor"
   ]
  },
  {
   "cell_type": "code",
   "execution_count": 27,
   "id": "9a31e15c-f682-4e79-999d-d9d33ff6b00f",
   "metadata": {},
   "outputs": [
    {
     "name": "stdout",
     "output_type": "stream",
     "text": [
      "MAE: 0.218\n",
      "MSE: 0.112\n",
      "RMSE: 0.335\n",
      "R² : 0.354\n"
     ]
    }
   ],
   "source": [
    "# LightGBM Regressor\n",
    "from lightgbm import LGBMRegressor\n",
    "lgbm_reg = LGBMRegressor(verbose=-1)\n",
    "lgbm_reg = lgbm_reg.fit(x_train, y_train)\n",
    "\n",
    "# Predição\n",
    "y_pred = lgbm_reg.predict(x_test)\n",
    "\n",
    "# Scores\n",
    "print(f\"MAE: {mean_absolute_error(y_test, y_pred):.3f}\")\n",
    "print(f\"MSE: {mean_squared_error(y_test, y_pred):.3f}\")\n",
    "print(f\"RMSE: {np.sqrt(mean_squared_error(y_test, y_pred)):.3f}\")\n",
    "print(f\"R² : {r2_score(y_test, y_pred):.3f}\")"
   ]
  },
  {
   "cell_type": "markdown",
   "id": "2a39a9e8-3723-42b1-9a84-e05883b8b402",
   "metadata": {},
   "source": [
    "### Random Forest Regressor"
   ]
  },
  {
   "cell_type": "code",
   "execution_count": 28,
   "id": "70a303e5-7caa-4a30-9522-3dcdc48dc0df",
   "metadata": {},
   "outputs": [
    {
     "name": "stdout",
     "output_type": "stream",
     "text": [
      "MAE: 0.212\n",
      "MSE: 0.122\n",
      "RMSE: 0.349\n",
      "R² : 0.298\n"
     ]
    }
   ],
   "source": [
    "# Random Forest Regressor\n",
    "from sklearn.ensemble import RandomForestRegressor\n",
    "rf_reg = RandomForestRegressor()\n",
    "rf_reg = rf_reg.fit(x_train, y_train)\n",
    "\n",
    "# Predição\n",
    "y_pred = rf_reg.predict(x_test)\n",
    "\n",
    "# Scores\n",
    "print(f\"MAE: {mean_absolute_error(y_test, y_pred):.3f}\")\n",
    "print(f\"MSE: {mean_squared_error(y_test, y_pred):.3f}\")\n",
    "print(f\"RMSE: {np.sqrt(mean_squared_error(y_test, y_pred)):.3f}\")\n",
    "print(f\"R² : {r2_score(y_test, y_pred):.3f}\")\n"
   ]
  },
  {
   "cell_type": "markdown",
   "id": "2d070ebc-55f2-4afb-a2e9-e7d6993f8f7c",
   "metadata": {},
   "source": [
    "- Otimizando Random Forest Regressor com Bayesian Optimization"
   ]
  },
  {
   "cell_type": "code",
   "execution_count": 29,
   "id": "f03a46e3-d156-43f7-a1d1-cedc9af78feb",
   "metadata": {},
   "outputs": [
    {
     "name": "stdout",
     "output_type": "stream",
     "text": [
      "|   iter    |  target   | max_depth | min_sa... | min_sa... | n_esti... |\n",
      "-------------------------------------------------------------------------\n",
      "| \u001b[39m1        \u001b[39m | \u001b[39m-0.1125  \u001b[39m | \u001b[39m14.36    \u001b[39m | \u001b[39m3.852    \u001b[39m | \u001b[39m7.856    \u001b[39m | \u001b[39m199.7    \u001b[39m |\n",
      "| \u001b[35m2        \u001b[39m | \u001b[35m-0.1079  \u001b[39m | \u001b[35m8.9      \u001b[39m | \u001b[35m1.468    \u001b[39m | \u001b[35m2.465    \u001b[39m | \u001b[35m266.5    \u001b[39m |\n",
      "| \u001b[39m3        \u001b[39m | \u001b[39m-0.1127  \u001b[39m | \u001b[39m20.03    \u001b[39m | \u001b[39m3.124    \u001b[39m | \u001b[39m2.165    \u001b[39m | \u001b[39m292.5    \u001b[39m |\n",
      "| \u001b[39m4        \u001b[39m | \u001b[39m-0.1162  \u001b[39m | \u001b[39m25.81    \u001b[39m | \u001b[39m1.637    \u001b[39m | \u001b[39m3.455    \u001b[39m | \u001b[39m95.85    \u001b[39m |\n",
      "| \u001b[39m5        \u001b[39m | \u001b[39m-0.1128  \u001b[39m | \u001b[39m12.61    \u001b[39m | \u001b[39m2.574    \u001b[39m | \u001b[39m5.456    \u001b[39m | \u001b[39m122.8    \u001b[39m |\n",
      "| \u001b[35m6        \u001b[39m | \u001b[35m-0.1078  \u001b[39m | \u001b[35m8.74     \u001b[39m | \u001b[35m2.153    \u001b[39m | \u001b[35m3.048    \u001b[39m | \u001b[35m267.7    \u001b[39m |\n",
      "| \u001b[39m7        \u001b[39m | \u001b[39m-0.1117  \u001b[39m | \u001b[39m28.99    \u001b[39m | \u001b[39m4.0      \u001b[39m | \u001b[39m10.0     \u001b[39m | \u001b[39m258.0    \u001b[39m |\n",
      "| \u001b[35m8        \u001b[39m | \u001b[35m-0.1071  \u001b[39m | \u001b[35m5.0      \u001b[39m | \u001b[35m4.0      \u001b[39m | \u001b[35m10.0     \u001b[39m | \u001b[35m254.6    \u001b[39m |\n",
      "| \u001b[39m9        \u001b[39m | \u001b[39m-0.1071  \u001b[39m | \u001b[39m5.0      \u001b[39m | \u001b[39m4.0      \u001b[39m | \u001b[39m2.0      \u001b[39m | \u001b[39m235.1    \u001b[39m |\n",
      "| \u001b[35m10       \u001b[39m | \u001b[35m-0.1071  \u001b[39m | \u001b[35m5.0      \u001b[39m | \u001b[35m4.0      \u001b[39m | \u001b[35m10.0     \u001b[39m | \u001b[35m50.0     \u001b[39m |\n",
      "| \u001b[39m11       \u001b[39m | \u001b[39m-0.1121  \u001b[39m | \u001b[39m30.0     \u001b[39m | \u001b[39m4.0      \u001b[39m | \u001b[39m2.0      \u001b[39m | \u001b[39m50.0     \u001b[39m |\n",
      "| \u001b[39m12       \u001b[39m | \u001b[39m-0.1119  \u001b[39m | \u001b[39m30.0     \u001b[39m | \u001b[39m4.0      \u001b[39m | \u001b[39m2.0      \u001b[39m | \u001b[39m157.9    \u001b[39m |\n",
      "| \u001b[35m13       \u001b[39m | \u001b[35m-0.107   \u001b[39m | \u001b[35m5.0      \u001b[39m | \u001b[35m1.0      \u001b[39m | \u001b[35m10.0     \u001b[39m | \u001b[35m65.71    \u001b[39m |\n",
      "| \u001b[39m14       \u001b[39m | \u001b[39m-0.107   \u001b[39m | \u001b[39m5.0      \u001b[39m | \u001b[39m1.0      \u001b[39m | \u001b[39m2.0      \u001b[39m | \u001b[39m57.14    \u001b[39m |\n",
      "| \u001b[39m15       \u001b[39m | \u001b[39m-0.1162  \u001b[39m | \u001b[39m29.67    \u001b[39m | \u001b[39m1.715    \u001b[39m | \u001b[39m2.539    \u001b[39m | \u001b[39m227.5    \u001b[39m |\n",
      "| \u001b[39m16       \u001b[39m | \u001b[39m-0.1071  \u001b[39m | \u001b[39m5.0      \u001b[39m | \u001b[39m1.0      \u001b[39m | \u001b[39m10.0     \u001b[39m | \u001b[39m162.4    \u001b[39m |\n",
      "| \u001b[39m17       \u001b[39m | \u001b[39m-0.1071  \u001b[39m | \u001b[39m5.0      \u001b[39m | \u001b[39m4.0      \u001b[39m | \u001b[39m2.0      \u001b[39m | \u001b[39m175.1    \u001b[39m |\n",
      "| \u001b[35m18       \u001b[39m | \u001b[35m-0.1067  \u001b[39m | \u001b[35m6.035    \u001b[39m | \u001b[35m3.241    \u001b[39m | \u001b[35m2.078    \u001b[39m | \u001b[35m151.3    \u001b[39m |\n",
      "| \u001b[39m19       \u001b[39m | \u001b[39m-0.107   \u001b[39m | \u001b[39m5.0      \u001b[39m | \u001b[39m1.0      \u001b[39m | \u001b[39m10.0     \u001b[39m | \u001b[39m144.9    \u001b[39m |\n",
      "| \u001b[39m20       \u001b[39m | \u001b[39m-0.1071  \u001b[39m | \u001b[39m5.0      \u001b[39m | \u001b[39m4.0      \u001b[39m | \u001b[39m2.0      \u001b[39m | \u001b[39m248.1    \u001b[39m |\n",
      "=========================================================================\n",
      "MAE: 0.217\n",
      "MSE: 0.109\n",
      "RMSE: 0.331\n",
      "R² : 0.369\n"
     ]
    }
   ],
   "source": [
    "# Random Forest Regressor + Bayesian Optimization\n",
    "from bayes_opt import BayesianOptimization\n",
    "from sklearn.ensemble import RandomForestRegressor\n",
    "from sklearn.model_selection import cross_val_score\n",
    "\n",
    "# Função de avaliação\n",
    "def rf_evaluate(n_estimators, max_depth, min_samples_split, min_samples_leaf):\n",
    "    model = RandomForestRegressor(\n",
    "        n_estimators=int(n_estimators),\n",
    "        max_depth=int(max_depth),\n",
    "        min_samples_split=int(min_samples_split),\n",
    "        min_samples_leaf=int(min_samples_leaf),\n",
    "        random_state=42\n",
    "    )\n",
    "    scores = cross_val_score(model, x_train, y_train, cv=5, scoring='neg_mean_squared_error')\n",
    "    return np.mean(scores)\n",
    "\n",
    "# Espaço de busca\n",
    "param_bounds = {\n",
    "    'n_estimators': (50, 300),\n",
    "    'max_depth': (5, 30),\n",
    "    'min_samples_split': (2, 10),\n",
    "    'min_samples_leaf': (1, 4)\n",
    "}\n",
    "\n",
    "# Executando Bayesian Optimization\n",
    "optimizer = BayesianOptimization(f=rf_evaluate, pbounds=param_bounds, random_state=42)\n",
    "optimizer.maximize(init_points=5, n_iter=15)\n",
    "\n",
    "# Pegando os melhores hiperparâmetros\n",
    "best_params = optimizer.max['params']\n",
    "rf_reg = RandomForestRegressor(\n",
    "    n_estimators=int(best_params['n_estimators']),\n",
    "    max_depth=int(best_params['max_depth']),\n",
    "    min_samples_split=int(best_params['min_samples_split']),\n",
    "    min_samples_leaf=int(best_params['min_samples_leaf']),\n",
    "    random_state=42\n",
    ")\n",
    "\n",
    "# Treinamento\n",
    "rf_reg.fit(x_train, y_train)\n",
    "\n",
    "# Predição\n",
    "y_pred = rf_reg.predict(x_test)\n",
    "\n",
    "# Avaliação\n",
    "print(f\"MAE: {mean_absolute_error(y_test, y_pred):.3f}\")\n",
    "print(f\"MSE: {mean_squared_error(y_test, y_pred):.3f}\")\n",
    "print(f\"RMSE: {np.sqrt(mean_squared_error(y_test, y_pred)):.3f}\")\n",
    "print(f\"R² : {r2_score(y_test, y_pred):.3f}\")\n"
   ]
  },
  {
   "cell_type": "markdown",
   "id": "588ffb9b-307f-482b-9bc0-f73b0c2522fc",
   "metadata": {},
   "source": [
    "- Otimizando LightGBM Regressor com Bayesian Optmization\n",
    "    - Apesar do resultado parecido com o do Random Forest, a performance do LightGBM é melhor, por isso ele será o modelo escolhido"
   ]
  },
  {
   "cell_type": "code",
   "execution_count": 30,
   "id": "6917d415-dbf6-4cc8-baab-e914495fbcaf",
   "metadata": {},
   "outputs": [
    {
     "name": "stdout",
     "output_type": "stream",
     "text": [
      "|   iter    |  target   | learni... | max_depth | n_esti... | num_le... |\n",
      "-------------------------------------------------------------------------\n",
      "| \u001b[39m1        \u001b[39m | \u001b[39m-0.1138  \u001b[39m | \u001b[39m0.1186   \u001b[39m | \u001b[39m28.77    \u001b[39m | \u001b[39m233.0    \u001b[39m | \u001b[39m37.96    \u001b[39m |\n",
      "| \u001b[35m2        \u001b[39m | \u001b[35m-0.1094  \u001b[39m | \u001b[35m0.05525  \u001b[39m | \u001b[35m8.9      \u001b[39m | \u001b[35m64.52    \u001b[39m | \u001b[35m45.99    \u001b[39m |\n",
      "| \u001b[39m3        \u001b[39m | \u001b[39m-0.1128  \u001b[39m | \u001b[39m0.1843   \u001b[39m | \u001b[39m22.7     \u001b[39m | \u001b[39m55.15    \u001b[39m | \u001b[39m49.1     \u001b[39m |\n",
      "| \u001b[39m4        \u001b[39m | \u001b[39m-0.1127  \u001b[39m | \u001b[39m0.2514   \u001b[39m | \u001b[39m10.31    \u001b[39m | \u001b[39m95.46    \u001b[39m | \u001b[39m25.5     \u001b[39m |\n",
      "| \u001b[39m5        \u001b[39m | \u001b[39m-0.1124  \u001b[39m | \u001b[39m0.09823  \u001b[39m | \u001b[39m18.12    \u001b[39m | \u001b[39m158.0    \u001b[39m | \u001b[39m28.74    \u001b[39m |\n",
      "| \u001b[39m6        \u001b[39m | \u001b[39m-0.1123  \u001b[39m | \u001b[39m0.2197   \u001b[39m | \u001b[39m21.7     \u001b[39m | \u001b[39m105.7    \u001b[39m | \u001b[39m21.92    \u001b[39m |\n",
      "| \u001b[35m7        \u001b[39m | \u001b[35m-0.1074  \u001b[39m | \u001b[35m0.02427  \u001b[39m | \u001b[35m5.462    \u001b[39m | \u001b[35m200.1    \u001b[39m | \u001b[35m41.71    \u001b[39m |\n",
      "| \u001b[39m8        \u001b[39m | \u001b[39m-0.1113  \u001b[39m | \u001b[39m0.1151   \u001b[39m | \u001b[39m7.026    \u001b[39m | \u001b[39m200.3    \u001b[39m | \u001b[39m39.86    \u001b[39m |\n",
      "| \u001b[39m9        \u001b[39m | \u001b[39m-0.1076  \u001b[39m | \u001b[39m0.02808  \u001b[39m | \u001b[39m5.751    \u001b[39m | \u001b[39m198.9    \u001b[39m | \u001b[39m43.64    \u001b[39m |\n",
      "| \u001b[39m10       \u001b[39m | \u001b[39m-0.1109  \u001b[39m | \u001b[39m0.2125   \u001b[39m | \u001b[39m5.139    \u001b[39m | \u001b[39m198.0    \u001b[39m | \u001b[39m42.24    \u001b[39m |\n",
      "| \u001b[39m11       \u001b[39m | \u001b[39m-0.1132  \u001b[39m | \u001b[39m0.2879   \u001b[39m | \u001b[39m6.461    \u001b[39m | \u001b[39m197.8    \u001b[39m | \u001b[39m45.18    \u001b[39m |\n",
      "| \u001b[39m12       \u001b[39m | \u001b[39m-0.1093  \u001b[39m | \u001b[39m0.07169  \u001b[39m | \u001b[39m5.059    \u001b[39m | \u001b[39m199.8    \u001b[39m | \u001b[39m42.73    \u001b[39m |\n",
      "| \u001b[35m13       \u001b[39m | \u001b[35m-0.1072  \u001b[39m | \u001b[35m0.02067  \u001b[39m | \u001b[35m5.178    \u001b[39m | \u001b[35m199.6    \u001b[39m | \u001b[35m40.55    \u001b[39m |\n",
      "| \u001b[39m14       \u001b[39m | \u001b[39m-0.1095  \u001b[39m | \u001b[39m0.09799  \u001b[39m | \u001b[39m5.843    \u001b[39m | \u001b[39m200.3    \u001b[39m | \u001b[39m44.02    \u001b[39m |\n",
      "| \u001b[39m15       \u001b[39m | \u001b[39m-0.1109  \u001b[39m | \u001b[39m0.09539  \u001b[39m | \u001b[39m7.478    \u001b[39m | \u001b[39m200.2    \u001b[39m | \u001b[39m43.65    \u001b[39m |\n",
      "| \u001b[39m16       \u001b[39m | \u001b[39m-0.1112  \u001b[39m | \u001b[39m0.1969   \u001b[39m | \u001b[39m5.35     \u001b[39m | \u001b[39m199.9    \u001b[39m | \u001b[39m38.95    \u001b[39m |\n",
      "| \u001b[39m17       \u001b[39m | \u001b[39m-0.1106  \u001b[39m | \u001b[39m0.1719   \u001b[39m | \u001b[39m5.013    \u001b[39m | \u001b[39m200.4    \u001b[39m | \u001b[39m41.53    \u001b[39m |\n",
      "| \u001b[39m18       \u001b[39m | \u001b[39m-0.1098  \u001b[39m | \u001b[39m0.14     \u001b[39m | \u001b[39m7.198    \u001b[39m | \u001b[39m62.93    \u001b[39m | \u001b[39m45.11    \u001b[39m |\n",
      "| \u001b[39m19       \u001b[39m | \u001b[39m-0.1117  \u001b[39m | \u001b[39m0.1848   \u001b[39m | \u001b[39m6.583    \u001b[39m | \u001b[39m200.1    \u001b[39m | \u001b[39m44.22    \u001b[39m |\n",
      "| \u001b[39m20       \u001b[39m | \u001b[39m-0.1137  \u001b[39m | \u001b[39m0.1157   \u001b[39m | \u001b[39m12.17    \u001b[39m | \u001b[39m223.1    \u001b[39m | \u001b[39m40.02    \u001b[39m |\n",
      "=========================================================================\n",
      "MAE: 0.220\n",
      "MSE: 0.109\n",
      "RMSE: 0.330\n",
      "R² : 0.371\n"
     ]
    }
   ],
   "source": [
    "# LightGBM Regressor + Bayesian Optimization\n",
    "from bayes_opt import BayesianOptimization\n",
    "from lightgbm import LGBMRegressor\n",
    "from sklearn.model_selection import cross_val_score\n",
    "\n",
    "# Função de avaliação\n",
    "def lgbm_evaluate(n_estimators, max_depth, num_leaves, learning_rate):\n",
    "    model = LGBMRegressor(\n",
    "        n_estimators=int(n_estimators),\n",
    "        max_depth=int(max_depth),\n",
    "        num_leaves=int(num_leaves),\n",
    "        learning_rate=learning_rate,\n",
    "        random_state=42,\n",
    "        verbose=-1  # Silencia os logs\n",
    "    )\n",
    "    scores = cross_val_score(model, x_train, y_train, cv=5, scoring='neg_mean_squared_error')\n",
    "    return np.mean(scores)\n",
    "\n",
    "# Espaço de busca\n",
    "param_bounds = {\n",
    "    'n_estimators': (50, 300),\n",
    "    'max_depth': (5, 30),\n",
    "    'num_leaves': (20, 50),\n",
    "    'learning_rate': (0.01, 0.3)\n",
    "}\n",
    "\n",
    "# Executando Bayesian Optimization\n",
    "optimizer = BayesianOptimization(f=lgbm_evaluate, pbounds=param_bounds, random_state=42)\n",
    "optimizer.maximize(init_points=5, n_iter=15)\n",
    "\n",
    "# Pegando os melhores hiperparâmetros\n",
    "best_params = optimizer.max['params']\n",
    "lgbm_reg = LGBMRegressor(\n",
    "    n_estimators=int(best_params['n_estimators']),\n",
    "    max_depth=int(best_params['max_depth']),\n",
    "    num_leaves=int(best_params['num_leaves']),\n",
    "    learning_rate=best_params['learning_rate'],\n",
    "    random_state=42,\n",
    "    verbose=-1  # Silencia os logs no treinamento final\n",
    ")\n",
    "\n",
    "# Treinamento\n",
    "lgbm_reg.fit(x_train, y_train)\n",
    "\n",
    "# Predição\n",
    "y_pred = lgbm_reg.predict(x_test)\n",
    "\n",
    "# Avaliação\n",
    "print(f\"MAE: {mean_absolute_error(y_test, y_pred):.3f}\")\n",
    "print(f\"MSE: {mean_squared_error(y_test, y_pred):.3f}\")\n",
    "print(f\"RMSE: {np.sqrt(mean_squared_error(y_test, y_pred)):.3f}\")\n",
    "print(f\"R² : {r2_score(y_test, y_pred):.3f}\")\n"
   ]
  },
  {
   "cell_type": "markdown",
   "id": "667579d1-9b9b-48c1-8e21-008016a5c897",
   "metadata": {
    "editable": true,
    "slideshow": {
     "slide_type": ""
    },
    "tags": []
   },
   "source": [
    "# Teste de Generalização (Overfitting e Underfitting)\n",
    "\n",
    "- **MAE = Erro Absoluto Médio**\n",
    "    - Se **MAE Treino < MAE Teste**, pode indicar **overfitting**.\n",
    "    - Se **MAE Treino e MAE Teste forem altos e R² for baixo**, pode indicar **underfitting**.\n",
    "    - Se **MAE Treino e MAE Teste forem altos e próximos**, pode indicar **underfitting**.  \n",
    "- **RMSE = Raiz do Erro Quadrático Médio**\n",
    "    - Se **RMSE Treino < RMSE Teste**, pode indicar **overfitting**.\n",
    "    - Se **RMSE Treino e RMSE Teste forem altos e R² for baixo**, pode indicar **underfitting**.\n",
    "    - Se **RMSE Treino e RMSE Teste forem altos e próximos**, pode indicar **underfitting**.  \n",
    "- **Comparação entre RMSE e MAE**\n",
    "    - Se **RMSE Teste ≈ MAE Teste**, modelo **bem ajustado**, poucos erros extremos.\n",
    "    - Se **RMSE Teste > MAE Teste**, modelo aceitável, pode ter **alguns outliers**.\n",
    "    - Se **RMSE Teste for 2x ou mais o MAE Teste**, modelo pode estar **mal ajustado**, indicando erros grandes."
   ]
  },
  {
   "cell_type": "code",
   "execution_count": 35,
   "id": "b8e2373a-e227-4230-bb59-682192de3d82",
   "metadata": {
    "editable": true,
    "slideshow": {
     "slide_type": ""
    },
    "tags": []
   },
   "outputs": [
    {
     "name": "stdout",
     "output_type": "stream",
     "text": [
      "MAE Treino: 0.210\n",
      "MAE Teste: 0.220\n",
      "RMSE Treino: 0.318\n",
      "RMSE Teste: 0.330\n",
      "R² Treino: 0.440\n",
      "R² Teste: 0.371\n"
     ]
    }
   ],
   "source": [
    "# Predição no conjunto de treino\n",
    "y_train_pred = lgbm_reg.predict(x_train)\n",
    "\n",
    "# Predição no conjunto de teste\n",
    "y_test_pred = lgbm_reg.predict(x_test)\n",
    "\n",
    "# Cálculo do erro em ambos os conjuntos\n",
    "mae_train = mean_absolute_error(y_train, y_train_pred)\n",
    "mae_test = mean_absolute_error(y_test, y_test_pred)\n",
    "rmse_train = np.sqrt(mean_squared_error(y_train, y_train_pred))\n",
    "rmse_test = np.sqrt(mean_squared_error(y_test, y_test_pred))\n",
    "r2_train = r2_score(y_train, y_train_pred)\n",
    "r2_test = r2_score(y_test, y_test_pred)\n",
    "\n",
    "print(f\"MAE Treino: {mae_train:.3f}\")\n",
    "print(f\"MAE Teste: {mae_test:.3f}\")\n",
    "print(f\"RMSE Treino: {rmse_train:.3f}\")\n",
    "print(f\"RMSE Teste: {rmse_test:.3f}\")\n",
    "print(f\"R² Treino: {r2_train:.3f}\")\n",
    "print(f\"R² Teste: {r2_test:.3f}\")\n"
   ]
  },
  {
   "cell_type": "markdown",
   "id": "f9074687-6c12-4032-baab-c9a73ad7b93d",
   "metadata": {},
   "source": [
    "# Gráficos de curva de aprendizado\n",
    "- Mostra como o modelo aprende, de acordo com as métricas, a medida que o tamanho dos dados de treino (que ele não conhece) vai aumentando.\n",
    "\n",
    "### 🧐 **Como interpretar os dados?**\n",
    "1️⃣ **MAE (Erro Absoluto Médio)**  \n",
    "💡 Representa o erro médio nas previsões do modelo.  \n",
    "- Se a linha **MAE Treino** estiver **muito abaixo da MAE Teste**, pode indicar **overfitting**.  \n",
    "- Se ambas estiverem **altas e próximas**, pode indicar **underfitting**.\n",
    "\n",
    "\n",
    "2️⃣ **RMSE (Raiz do Erro Quadrático Médio)**  \n",
    "💡 Similar ao MAE, mas **penaliza erros maiores**, então valores altos podem indicar **outliers**.  \n",
    "- Se o **RMSE Teste for muito maior que o RMSE Treino**, há risco de **overfitting**.  \n",
    "- Se ambos forem altos, pode ser **underfitting**.  \n",
    "- Se **RMSE estiver muito maior que o MAE**, pode significar que o modelo comete erros grandes ocasionalmente.\n",
    "\n",
    "\n",
    "3️⃣ **R² (Coeficiente de Determinação)**  \n",
    "💡 Mede **quanto o modelo explica a variação dos dados** (valores entre **0 e 1**, quanto maior, melhor).  \n",
    "- Se **R² Treino for muito maior que R² Teste**, é sinal de **overfitting**.  \n",
    "- Se **R² Teste for muito baixo (<0.3)**, pode indicar **underfitting**.  \n",
    "\n",
    "---\n",
    "\n",
    "### 🔍 **Como saber se o modelo está bom?**  \n",
    "✔ Se as curvas de treino e teste forem **parecidas e com valores baixos**, significa que o modelo está bem ajustado.  \n",
    "✔ Se houver **grande diferença** entre treino e teste, pode ser **overfitting**.  \n",
    "✔ Se ambas as métricas forem **altas e R² for baixo**, pode ser **underfitting**.  \n"
   ]
  },
  {
   "cell_type": "code",
   "execution_count": 40,
   "id": "9e7028a5-76b7-4af0-88a6-2a7fb33ba5e9",
   "metadata": {},
   "outputs": [
    {
     "data": {
      "image/png": "[encoded data removed]",
      "text/plain": [
       "<Figure size 1800x500 with 3 Axes>"
      ]
     },
     "metadata": {},
     "output_type": "display_data"
    }
   ],
   "source": [
    "from sklearn.model_selection import learning_curve\n",
    "\n",
    "# Cálculo das curvas de aprendizado para MAE\n",
    "train_sizes, train_scores, test_scores = learning_curve(\n",
    "    lgbm_reg, x_train, y_train, cv=5, scoring=\"neg_mean_absolute_error\", train_sizes=np.linspace(0.1, 1.0, 10)\n",
    ")\n",
    "train_mean = -np.mean(train_scores, axis=1)\n",
    "test_mean = -np.mean(test_scores, axis=1)\n",
    "\n",
    "# Cálculo das curvas de aprendizado para RMSE\n",
    "train_sizes_rmse, train_scores_rmse, test_scores_rmse = learning_curve(\n",
    "    lgbm_reg, x_train, y_train, cv=5, scoring=\"neg_root_mean_squared_error\", train_sizes=np.linspace(0.1, 1.0, 10)\n",
    ")\n",
    "train_mean_rmse = -np.mean(train_scores_rmse, axis=1)\n",
    "test_mean_rmse = -np.mean(test_scores_rmse, axis=1)\n",
    "\n",
    "# Cálculo das curvas de aprendizado para R²\n",
    "train_sizes_r2, train_scores_r2, test_scores_r2 = learning_curve(\n",
    "    lgbm_reg, x_train, y_train, cv=5, scoring=\"r2\", train_sizes=np.linspace(0.1, 1.0, 10)\n",
    ")\n",
    "train_mean_r2 = np.mean(train_scores_r2, axis=1)\n",
    "test_mean_r2 = np.mean(test_scores_r2, axis=1)\n",
    "\n",
    "# Plotando os gráficos\n",
    "fig, axs = plt.subplots(1, 3, figsize=(18, 5))\n",
    "\n",
    "# MAE\n",
    "axs[0].plot(train_sizes, train_mean, label=\"Treino\", marker=\"o\")\n",
    "axs[0].plot(train_sizes, test_mean, label=\"Teste\", marker=\"s\")\n",
    "axs[0].set_xlabel(\"Tamanho do conjunto de treino\")\n",
    "axs[0].set_ylabel(\"Erro MAE\")\n",
    "axs[0].set_title(\"Curva de Aprendizado - MAE\")\n",
    "axs[0].legend()\n",
    "\n",
    "# RMSE\n",
    "axs[1].plot(train_sizes_rmse, train_mean_rmse, label=\"Treino\", marker=\"o\")\n",
    "axs[1].plot(train_sizes_rmse, test_mean_rmse, label=\"Teste\", marker=\"s\")\n",
    "axs[1].set_xlabel(\"Tamanho do conjunto de treino\")\n",
    "axs[1].set_ylabel(\"Erro RMSE\")\n",
    "axs[1].set_title(\"Curva de Aprendizado - RMSE\")\n",
    "axs[1].legend()\n",
    "\n",
    "# R²\n",
    "axs[2].plot(train_sizes_r2, train_mean_r2, label=\"Treino\", marker=\"o\")\n",
    "axs[2].plot(train_sizes_r2, test_mean_r2, label=\"Teste\", marker=\"s\")\n",
    "axs[2].set_xlabel(\"Tamanho do conjunto de treino\")\n",
    "axs[2].set_ylabel(\"R²\")\n",
    "axs[2].set_title(\"Curva de Aprendizado - R²\")\n",
    "axs[2].legend()\n",
    "\n",
    "plt.show()\n"
   ]
  },
  {
   "cell_type": "markdown",
   "id": "6dc74583-a218-4fee-adcb-20deb48141d2",
   "metadata": {},
   "source": [
    "# Serialização do modelo (Salvando modelo treinado)\n",
    "- Ao salvar (serializar) o modelo, ele não precisa ser treinado novamento"
   ]
  },
  {
   "cell_type": "code",
   "execution_count": 32,
   "id": "c3fec81a-c951-40a4-8166-1cabc5a67d73",
   "metadata": {},
   "outputs": [],
   "source": [
    "from src.utils import salvar_modelo\n",
    "salvar_modelo(lgbm_reg)  # Salva o modelo no caminho padrão"
   ]
  },
  {
   "cell_type": "markdown",
   "id": "dc4444e9-8312-406d-b9ef-9fef658cc089",
   "metadata": {},
   "source": [
    "# Desserialização do modelo (Carregando modelo treinado)"
   ]
  },
  {
   "cell_type": "code",
   "execution_count": 33,
   "id": "4d769c2a-ab71-4ae3-b56d-cafe8798064e",
   "metadata": {},
   "outputs": [
    {
     "data": {
      "text/html": [
       "<style>#sk-container-id-1 {\n",
       "  /* Definition of color scheme common for light and dark mode */\n",
       "  --sklearn-color-text: #000;\n",
       "  --sklearn-color-text-muted: #666;\n",
       "  --sklearn-color-line: gray;\n",
       "  /* Definition of color scheme for unfitted estimators */\n",
       "  --sklearn-color-unfitted-level-0: #fff5e6;\n",
       "  --sklearn-color-unfitted-level-1: #f6e4d2;\n",
       "  --sklearn-color-unfitted-level-2: #ffe0b3;\n",
       "  --sklearn-color-unfitted-level-3: chocolate;\n",
       "  /* Definition of color scheme for fitted estimators */\n",
       "  --sklearn-color-fitted-level-0: #f0f8ff;\n",
       "  --sklearn-color-fitted-level-1: #d4ebff;\n",
       "  --sklearn-color-fitted-level-2: #b3dbfd;\n",
       "  --sklearn-color-fitted-level-3: cornflowerblue;\n",
       "\n",
       "  /* Specific color for light theme */\n",
       "  --sklearn-color-text-on-default-background: var(--sg-text-color, var(--theme-code-foreground, var(--jp-content-font-color1, black)));\n",
       "  --sklearn-color-background: var(--sg-background-color, var(--theme-background, var(--jp-layout-color0, white)));\n",
       "  --sklearn-color-border-box: var(--sg-text-color, var(--theme-code-foreground, var(--jp-content-font-color1, black)));\n",
       "  --sklearn-color-icon: #696969;\n",
       "\n",
       "  @media (prefers-color-scheme: dark) {\n",
       "    /* Redefinition of color scheme for dark theme */\n",
       "    --sklearn-color-text-on-default-background: var(--sg-text-color, var(--theme-code-foreground, var(--jp-content-font-color1, white)));\n",
       "    --sklearn-color-background: var(--sg-background-color, var(--theme-background, var(--jp-layout-color0, #111)));\n",
       "    --sklearn-color-border-box: var(--sg-text-color, var(--theme-code-foreground, var(--jp-content-font-color1, white)));\n",
       "    --sklearn-color-icon: #878787;\n",
       "  }\n",
       "}\n",
       "\n",
       "#sk-container-id-1 {\n",
       "  color: var(--sklearn-color-text);\n",
       "}\n",
       "\n",
       "#sk-container-id-1 pre {\n",
       "  padding: 0;\n",
       "}\n",
       "\n",
       "#sk-container-id-1 input.sk-hidden--visually {\n",
       "  border: 0;\n",
       "  clip: rect(1px 1px 1px 1px);\n",
       "  clip: rect(1px, 1px, 1px, 1px);\n",
       "  height: 1px;\n",
       "  margin: -1px;\n",
       "  overflow: hidden;\n",
       "  padding: 0;\n",
       "  position: absolute;\n",
       "  width: 1px;\n",
       "}\n",
       "\n",
       "#sk-container-id-1 div.sk-dashed-wrapped {\n",
       "  border: 1px dashed var(--sklearn-color-line);\n",
       "  margin: 0 0.4em 0.5em 0.4em;\n",
       "  box-sizing: border-box;\n",
       "  padding-bottom: 0.4em;\n",
       "  background-color: var(--sklearn-color-background);\n",
       "}\n",
       "\n",
       "#sk-container-id-1 div.sk-container {\n",
       "  /* jupyter's `normalize.less` sets `[hidden] { display: none; }`\n",
       "     but bootstrap.min.css set `[hidden] { display: none !important; }`\n",
       "     so we also need the `!important` here to be able to override the\n",
       "     default hidden behavior on the sphinx rendered scikit-learn.org.\n",
       "     See: https://github.com/scikit-learn/scikit-learn/issues/21755 */\n",
       "  display: inline-block !important;\n",
       "  position: relative;\n",
       "}\n",
       "\n",
       "#sk-container-id-1 div.sk-text-repr-fallback {\n",
       "  display: none;\n",
       "}\n",
       "\n",
       "div.sk-parallel-item,\n",
       "div.sk-serial,\n",
       "div.sk-item {\n",
       "  /* draw centered vertical line to link estimators */\n",
       "  background-image: linear-gradient(var(--sklearn-color-text-on-default-background), var(--sklearn-color-text-on-default-background));\n",
       "  background-size: 2px 100%;\n",
       "  background-repeat: no-repeat;\n",
       "  background-position: center center;\n",
       "}\n",
       "\n",
       "/* Parallel-specific style estimator block */\n",
       "\n",
       "#sk-container-id-1 div.sk-parallel-item::after {\n",
       "  content: \"\";\n",
       "  width: 100%;\n",
       "  border-bottom: 2px solid var(--sklearn-color-text-on-default-background);\n",
       "  flex-grow: 1;\n",
       "}\n",
       "\n",
       "#sk-container-id-1 div.sk-parallel {\n",
       "  display: flex;\n",
       "  align-items: stretch;\n",
       "  justify-content: center;\n",
       "  background-color: var(--sklearn-color-background);\n",
       "  position: relative;\n",
       "}\n",
       "\n",
       "#sk-container-id-1 div.sk-parallel-item {\n",
       "  display: flex;\n",
       "  flex-direction: column;\n",
       "}\n",
       "\n",
       "#sk-container-id-1 div.sk-parallel-item:first-child::after {\n",
       "  align-self: flex-end;\n",
       "  width: 50%;\n",
       "}\n",
       "\n",
       "#sk-container-id-1 div.sk-parallel-item:last-child::after {\n",
       "  align-self: flex-start;\n",
       "  width: 50%;\n",
       "}\n",
       "\n",
       "#sk-container-id-1 div.sk-parallel-item:only-child::after {\n",
       "  width: 0;\n",
       "}\n",
       "\n",
       "/* Serial-specific style estimator block */\n",
       "\n",
       "#sk-container-id-1 div.sk-serial {\n",
       "  display: flex;\n",
       "  flex-direction: column;\n",
       "  align-items: center;\n",
       "  background-color: var(--sklearn-color-background);\n",
       "  padding-right: 1em;\n",
       "  padding-left: 1em;\n",
       "}\n",
       "\n",
       "\n",
       "/* Toggleable style: style used for estimator/Pipeline/ColumnTransformer box that is\n",
       "clickable and can be expanded/collapsed.\n",
       "- Pipeline and ColumnTransformer use this feature and define the default style\n",
       "- Estimators will overwrite some part of the style using the `sk-estimator` class\n",
       "*/\n",
       "\n",
       "/* Pipeline and ColumnTransformer style (default) */\n",
       "\n",
       "#sk-container-id-1 div.sk-toggleable {\n",
       "  /* Default theme specific background. It is overwritten whether we have a\n",
       "  specific estimator or a Pipeline/ColumnTransformer */\n",
       "  background-color: var(--sklearn-color-background);\n",
       "}\n",
       "\n",
       "/* Toggleable label */\n",
       "#sk-container-id-1 label.sk-toggleable__label {\n",
       "  cursor: pointer;\n",
       "  display: flex;\n",
       "  width: 100%;\n",
       "  margin-bottom: 0;\n",
       "  padding: 0.5em;\n",
       "  box-sizing: border-box;\n",
       "  text-align: center;\n",
       "  align-items: start;\n",
       "  justify-content: space-between;\n",
       "  gap: 0.5em;\n",
       "}\n",
       "\n",
       "#sk-container-id-1 label.sk-toggleable__label .caption {\n",
       "  font-size: 0.6rem;\n",
       "  font-weight: lighter;\n",
       "  color: var(--sklearn-color-text-muted);\n",
       "}\n",
       "\n",
       "#sk-container-id-1 label.sk-toggleable__label-arrow:before {\n",
       "  /* Arrow on the left of the label */\n",
       "  content: \"▸\";\n",
       "  float: left;\n",
       "  margin-right: 0.25em;\n",
       "  color: var(--sklearn-color-icon);\n",
       "}\n",
       "\n",
       "#sk-container-id-1 label.sk-toggleable__label-arrow:hover:before {\n",
       "  color: var(--sklearn-color-text);\n",
       "}\n",
       "\n",
       "/* Toggleable content - dropdown */\n",
       "\n",
       "#sk-container-id-1 div.sk-toggleable__content {\n",
       "  max-height: 0;\n",
       "  max-width: 0;\n",
       "  overflow: hidden;\n",
       "  text-align: left;\n",
       "  /* unfitted */\n",
       "  background-color: var(--sklearn-color-unfitted-level-0);\n",
       "}\n",
       "\n",
       "#sk-container-id-1 div.sk-toggleable__content.fitted {\n",
       "  /* fitted */\n",
       "  background-color: var(--sklearn-color-fitted-level-0);\n",
       "}\n",
       "\n",
       "#sk-container-id-1 div.sk-toggleable__content pre {\n",
       "  margin: 0.2em;\n",
       "  border-radius: 0.25em;\n",
       "  color: var(--sklearn-color-text);\n",
       "  /* unfitted */\n",
       "  background-color: var(--sklearn-color-unfitted-level-0);\n",
       "}\n",
       "\n",
       "#sk-container-id-1 div.sk-toggleable__content.fitted pre {\n",
       "  /* unfitted */\n",
       "  background-color: var(--sklearn-color-fitted-level-0);\n",
       "}\n",
       "\n",
       "#sk-container-id-1 input.sk-toggleable__control:checked~div.sk-toggleable__content {\n",
       "  /* Expand drop-down */\n",
       "  max-height: 200px;\n",
       "  max-width: 100%;\n",
       "  overflow: auto;\n",
       "}\n",
       "\n",
       "#sk-container-id-1 input.sk-toggleable__control:checked~label.sk-toggleable__label-arrow:before {\n",
       "  content: \"▾\";\n",
       "}\n",
       "\n",
       "/* Pipeline/ColumnTransformer-specific style */\n",
       "\n",
       "#sk-container-id-1 div.sk-label input.sk-toggleable__control:checked~label.sk-toggleable__label {\n",
       "  color: var(--sklearn-color-text);\n",
       "  background-color: var(--sklearn-color-unfitted-level-2);\n",
       "}\n",
       "\n",
       "#sk-container-id-1 div.sk-label.fitted input.sk-toggleable__control:checked~label.sk-toggleable__label {\n",
       "  background-color: var(--sklearn-color-fitted-level-2);\n",
       "}\n",
       "\n",
       "/* Estimator-specific style */\n",
       "\n",
       "/* Colorize estimator box */\n",
       "#sk-container-id-1 div.sk-estimator input.sk-toggleable__control:checked~label.sk-toggleable__label {\n",
       "  /* unfitted */\n",
       "  background-color: var(--sklearn-color-unfitted-level-2);\n",
       "}\n",
       "\n",
       "#sk-container-id-1 div.sk-estimator.fitted input.sk-toggleable__control:checked~label.sk-toggleable__label {\n",
       "  /* fitted */\n",
       "  background-color: var(--sklearn-color-fitted-level-2);\n",
       "}\n",
       "\n",
       "#sk-container-id-1 div.sk-label label.sk-toggleable__label,\n",
       "#sk-container-id-1 div.sk-label label {\n",
       "  /* The background is the default theme color */\n",
       "  color: var(--sklearn-color-text-on-default-background);\n",
       "}\n",
       "\n",
       "/* On hover, darken the color of the background */\n",
       "#sk-container-id-1 div.sk-label:hover label.sk-toggleable__label {\n",
       "  color: var(--sklearn-color-text);\n",
       "  background-color: var(--sklearn-color-unfitted-level-2);\n",
       "}\n",
       "\n",
       "/* Label box, darken color on hover, fitted */\n",
       "#sk-container-id-1 div.sk-label.fitted:hover label.sk-toggleable__label.fitted {\n",
       "  color: var(--sklearn-color-text);\n",
       "  background-color: var(--sklearn-color-fitted-level-2);\n",
       "}\n",
       "\n",
       "/* Estimator label */\n",
       "\n",
       "#sk-container-id-1 div.sk-label label {\n",
       "  font-family: monospace;\n",
       "  font-weight: bold;\n",
       "  display: inline-block;\n",
       "  line-height: 1.2em;\n",
       "}\n",
       "\n",
       "#sk-container-id-1 div.sk-label-container {\n",
       "  text-align: center;\n",
       "}\n",
       "\n",
       "/* Estimator-specific */\n",
       "#sk-container-id-1 div.sk-estimator {\n",
       "  font-family: monospace;\n",
       "  border: 1px dotted var(--sklearn-color-border-box);\n",
       "  border-radius: 0.25em;\n",
       "  box-sizing: border-box;\n",
       "  margin-bottom: 0.5em;\n",
       "  /* unfitted */\n",
       "  background-color: var(--sklearn-color-unfitted-level-0);\n",
       "}\n",
       "\n",
       "#sk-container-id-1 div.sk-estimator.fitted {\n",
       "  /* fitted */\n",
       "  background-color: var(--sklearn-color-fitted-level-0);\n",
       "}\n",
       "\n",
       "/* on hover */\n",
       "#sk-container-id-1 div.sk-estimator:hover {\n",
       "  /* unfitted */\n",
       "  background-color: var(--sklearn-color-unfitted-level-2);\n",
       "}\n",
       "\n",
       "#sk-container-id-1 div.sk-estimator.fitted:hover {\n",
       "  /* fitted */\n",
       "  background-color: var(--sklearn-color-fitted-level-2);\n",
       "}\n",
       "\n",
       "/* Specification for estimator info (e.g. \"i\" and \"?\") */\n",
       "\n",
       "/* Common style for \"i\" and \"?\" */\n",
       "\n",
       ".sk-estimator-doc-link,\n",
       "a:link.sk-estimator-doc-link,\n",
       "a:visited.sk-estimator-doc-link {\n",
       "  float: right;\n",
       "  font-size: smaller;\n",
       "  line-height: 1em;\n",
       "  font-family: monospace;\n",
       "  background-color: var(--sklearn-color-background);\n",
       "  border-radius: 1em;\n",
       "  height: 1em;\n",
       "  width: 1em;\n",
       "  text-decoration: none !important;\n",
       "  margin-left: 0.5em;\n",
       "  text-align: center;\n",
       "  /* unfitted */\n",
       "  border: var(--sklearn-color-unfitted-level-1) 1pt solid;\n",
       "  color: var(--sklearn-color-unfitted-level-1);\n",
       "}\n",
       "\n",
       ".sk-estimator-doc-link.fitted,\n",
       "a:link.sk-estimator-doc-link.fitted,\n",
       "a:visited.sk-estimator-doc-link.fitted {\n",
       "  /* fitted */\n",
       "  border: var(--sklearn-color-fitted-level-1) 1pt solid;\n",
       "  color: var(--sklearn-color-fitted-level-1);\n",
       "}\n",
       "\n",
       "/* On hover */\n",
       "div.sk-estimator:hover .sk-estimator-doc-link:hover,\n",
       ".sk-estimator-doc-link:hover,\n",
       "div.sk-label-container:hover .sk-estimator-doc-link:hover,\n",
       ".sk-estimator-doc-link:hover {\n",
       "  /* unfitted */\n",
       "  background-color: var(--sklearn-color-unfitted-level-3);\n",
       "  color: var(--sklearn-color-background);\n",
       "  text-decoration: none;\n",
       "}\n",
       "\n",
       "div.sk-estimator.fitted:hover .sk-estimator-doc-link.fitted:hover,\n",
       ".sk-estimator-doc-link.fitted:hover,\n",
       "div.sk-label-container:hover .sk-estimator-doc-link.fitted:hover,\n",
       ".sk-estimator-doc-link.fitted:hover {\n",
       "  /* fitted */\n",
       "  background-color: var(--sklearn-color-fitted-level-3);\n",
       "  color: var(--sklearn-color-background);\n",
       "  text-decoration: none;\n",
       "}\n",
       "\n",
       "/* Span, style for the box shown on hovering the info icon */\n",
       ".sk-estimator-doc-link span {\n",
       "  display: none;\n",
       "  z-index: 9999;\n",
       "  position: relative;\n",
       "  font-weight: normal;\n",
       "  right: .2ex;\n",
       "  padding: .5ex;\n",
       "  margin: .5ex;\n",
       "  width: min-content;\n",
       "  min-width: 20ex;\n",
       "  max-width: 50ex;\n",
       "  color: var(--sklearn-color-text);\n",
       "  box-shadow: 2pt 2pt 4pt #999;\n",
       "  /* unfitted */\n",
       "  background: var(--sklearn-color-unfitted-level-0);\n",
       "  border: .5pt solid var(--sklearn-color-unfitted-level-3);\n",
       "}\n",
       "\n",
       ".sk-estimator-doc-link.fitted span {\n",
       "  /* fitted */\n",
       "  background: var(--sklearn-color-fitted-level-0);\n",
       "  border: var(--sklearn-color-fitted-level-3);\n",
       "}\n",
       "\n",
       ".sk-estimator-doc-link:hover span {\n",
       "  display: block;\n",
       "}\n",
       "\n",
       "/* \"?\"-specific style due to the `<a>` HTML tag */\n",
       "\n",
       "#sk-container-id-1 a.estimator_doc_link {\n",
       "  float: right;\n",
       "  font-size: 1rem;\n",
       "  line-height: 1em;\n",
       "  font-family: monospace;\n",
       "  background-color: var(--sklearn-color-background);\n",
       "  border-radius: 1rem;\n",
       "  height: 1rem;\n",
       "  width: 1rem;\n",
       "  text-decoration: none;\n",
       "  /* unfitted */\n",
       "  color: var(--sklearn-color-unfitted-level-1);\n",
       "  border: var(--sklearn-color-unfitted-level-1) 1pt solid;\n",
       "}\n",
       "\n",
       "#sk-container-id-1 a.estimator_doc_link.fitted {\n",
       "  /* fitted */\n",
       "  border: var(--sklearn-color-fitted-level-1) 1pt solid;\n",
       "  color: var(--sklearn-color-fitted-level-1);\n",
       "}\n",
       "\n",
       "/* On hover */\n",
       "#sk-container-id-1 a.estimator_doc_link:hover {\n",
       "  /* unfitted */\n",
       "  background-color: var(--sklearn-color-unfitted-level-3);\n",
       "  color: var(--sklearn-color-background);\n",
       "  text-decoration: none;\n",
       "}\n",
       "\n",
       "#sk-container-id-1 a.estimator_doc_link.fitted:hover {\n",
       "  /* fitted */\n",
       "  background-color: var(--sklearn-color-fitted-level-3);\n",
       "}\n",
       "</style><div id=\"sk-container-id-1\" class=\"sk-top-container\"><div class=\"sk-text-repr-fallback\"><pre>LGBMRegressor(learning_rate=np.float64(0.0206709573669649), max_depth=5,\n",
       "              n_estimators=199, num_leaves=40, random_state=42, verbose=-1)</pre><b>In a Jupyter environment, please rerun this cell to show the HTML representation or trust the notebook. <br />On GitHub, the HTML representation is unable to render, please try loading this page with nbviewer.org.</b></div><div class=\"sk-container\" hidden><div class=\"sk-item\"><div class=\"sk-estimator fitted sk-toggleable\"><input class=\"sk-toggleable__control sk-hidden--visually\" id=\"sk-estimator-id-1\" type=\"checkbox\" checked><label for=\"sk-estimator-id-1\" class=\"sk-toggleable__label fitted sk-toggleable__label-arrow\"><div><div>LGBMRegressor</div></div><div><span class=\"sk-estimator-doc-link fitted\">i<span>Fitted</span></span></div></label><div class=\"sk-toggleable__content fitted\"><pre>LGBMRegressor(learning_rate=np.float64(0.0206709573669649), max_depth=5,\n",
       "              n_estimators=199, num_leaves=40, random_state=42, verbose=-1)</pre></div> </div></div></div></div>"
      ],
      "text/plain": [
       "LGBMRegressor(learning_rate=np.float64(0.0206709573669649), max_depth=5,\n",
       "              n_estimators=199, num_leaves=40, random_state=42, verbose=-1)"
      ]
     },
     "execution_count": 33,
     "metadata": {},
     "output_type": "execute_result"
    }
   ],
   "source": [
    "from src.utils import carregar_modelo\n",
    "carregar_modelo()  # Carrega o modelo no caminho padrão"
   ]
  },
  {
   "cell_type": "markdown",
   "id": "713190c5-982d-4307-a2ca-cd44037e8ec2",
   "metadata": {},
   "source": [
    "# Testando modelo carregado"
   ]
  },
  {
   "cell_type": "code",
   "execution_count": 34,
   "id": "c6a56c81-c219-4017-830a-241653793b57",
   "metadata": {},
   "outputs": [
    {
     "name": "stdout",
     "output_type": "stream",
     "text": [
      "MAE: 0.220\n",
      "MSE: 0.109\n",
      "RMSE: 0.330\n",
      "R² : 0.371\n"
     ]
    }
   ],
   "source": [
    "# Carrega o modelo salvo no caminho padrão\n",
    "lgbm_reg_carregado = carregar_modelo()  \n",
    "# Testando o modelo carregado\n",
    "y_pred_carregado = lgbm_reg_carregado.predict(x_test)\n",
    "\n",
    "# Avaliação\n",
    "print(f\"MAE: {mean_absolute_error(y_test, y_pred_carregado):.3f}\")\n",
    "print(f\"MSE: {mean_squared_error(y_test, y_pred_carregado):.3f}\")\n",
    "print(f\"RMSE: {np.sqrt(mean_squared_error(y_test, y_pred_carregado)):.3f}\")\n",
    "print(f\"R² : {r2_score(y_test, y_pred_carregado):.3f}\")"
   ]
  }
 ],
 "metadata": {
  "kernelspec": {
   "display_name": "Python 3 (ipykernel)",
   "language": "python",
   "name": "python3"
  },
  "language_info": {
   "codemirror_mode": {
    "name": "ipython",
    "version": 3
   },
   "file_extension": ".py",
   "mimetype": "text/x-python",
   "name": "python",
   "nbconvert_exporter": "python",
   "pygments_lexer": "ipython3",
   "version": "3.13.3"
  }
 },
 "nbformat": 4,
 "nbformat_minor": 5
}
